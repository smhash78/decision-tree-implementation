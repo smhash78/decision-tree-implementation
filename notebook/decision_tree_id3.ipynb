{
  "nbformat": 4,
  "nbformat_minor": 0,
  "metadata": {
    "colab": {
      "provenance": [],
      "collapsed_sections": [
        "Aj0JtILnPBXz",
        "7HxuCZ_zS1H7",
        "2pUjIHAJTiUm"
      ],
      "toc_visible": true
    },
    "kernelspec": {
      "name": "python3",
      "display_name": "Python 3"
    },
    "language_info": {
      "name": "python"
    }
  },
  "cells": [
    {
      "cell_type": "markdown",
      "source": [
        "# Decision Tree Builder Model Using ID3 Algorithm and Testing on Iris Dataset\n",
        "The code in a more structured format is publicly available (after the homework deadline) at:\n",
        "\n",
        "https://github.com/smhash78/decision-tree-implementation/"
      ],
      "metadata": {
        "id": "ljX2S-zRPknd"
      }
    },
    {
      "cell_type": "markdown",
      "source": [
        "# Initialization"
      ],
      "metadata": {
        "id": "Aj0JtILnPBXz"
      }
    },
    {
      "cell_type": "code",
      "source": [
        "from math import log2\n",
        "from typing import Union, Dict, TypeVar, Tuple, List, Any\n",
        "from time import time\n",
        "\n",
        "import pandas as pd\n",
        "from sklearn.model_selection import train_test_split"
      ],
      "metadata": {
        "id": "BIS02BPcPFie"
      },
      "execution_count": 53,
      "outputs": []
    },
    {
      "cell_type": "code",
      "source": [
        "# CONSTANTS\n",
        "\n",
        "# feature types\n",
        "NOMINAL = 'NOM'\n",
        "NUMERIC = 'NUM'\n",
        "\n",
        "# methods\n",
        "IG = 'INFORMATION_GAIN'\n",
        "GR = 'GAIN_RATIO'\n",
        "\n",
        "# evaluation metrics\n",
        "ACCURACY = 'ACCURACY'\n",
        "PRECISION = 'PRECISION'\n",
        "RECALL = 'RECALL'\n",
        "F1_SCORE = 'F1_SCORE'"
      ],
      "metadata": {
        "id": "Dc1e4KoEQshs"
      },
      "execution_count": 54,
      "outputs": []
    },
    {
      "cell_type": "markdown",
      "source": [
        "# Implementation From Skratch"
      ],
      "metadata": {
        "id": "_QAIjYWuPhch"
      }
    },
    {
      "cell_type": "markdown",
      "source": [
        "## Data class"
      ],
      "metadata": {
        "id": "aiCHwT4KQbMp"
      }
    },
    {
      "cell_type": "code",
      "source": [
        "T = TypeVar('T', bound='Data')"
      ],
      "metadata": {
        "id": "TUGWAFu_QjEI"
      },
      "execution_count": 55,
      "outputs": []
    },
    {
      "cell_type": "code",
      "source": [
        "class Data:\n",
        "    def __init__(\n",
        "            self,\n",
        "            X: pd.DataFrame,\n",
        "            y: pd.Series,\n",
        "            feature_types: Dict[str, str],\n",
        "    ):\n",
        "        self.X = X\n",
        "        self.y = y\n",
        "        self.feature_types = feature_types\n",
        "\n",
        "    def __len__(self):\n",
        "        return len(self.y)\n",
        "\n",
        "    def get_feature_names(self):\n",
        "        return self.X.columns.tolist()\n",
        "\n",
        "    def get_dv_portions(\n",
        "            self,\n",
        "            xj: str,\n",
        "            threshold: Union[int, float] = None\n",
        "    ) -> Dict[str, T]:\n",
        "        result = {}\n",
        "\n",
        "        if self.feature_types[xj] == NOMINAL:\n",
        "            for value in self.X[xj].unique():\n",
        "                X_subset = self.X[self.X[xj] == value]\n",
        "                y_subset = self.y[X_subset.index]\n",
        "\n",
        "                result[value] = Data(X_subset, y_subset, self.feature_types.copy())\n",
        "\n",
        "        elif self.feature_types[xj] == NUMERIC:\n",
        "            if threshold is not None:\n",
        "                X_subset_above = self.X[self.X[xj] >= threshold]\n",
        "                y_subset_above = self.y[X_subset_above.index]\n",
        "\n",
        "                X_subset_below = self.X[self.X[xj] < threshold]\n",
        "                y_subset_below = self.y[X_subset_below.index]\n",
        "\n",
        "                result = {\n",
        "                    'above': Data(\n",
        "                        X_subset_above,\n",
        "                        y_subset_above,\n",
        "                        self.feature_types,\n",
        "                    ),\n",
        "                    'below': Data(\n",
        "                        X_subset_below,\n",
        "                        y_subset_below,\n",
        "                        self.feature_types,\n",
        "                    ),\n",
        "                }\n",
        "            else:\n",
        "                raise ValueError(\"The value of threshold can't be None when the feature is numeric.\")\n",
        "\n",
        "        return result\n",
        "\n",
        "    def remove_feature(self, feature_name: str):\n",
        "        self.X = self.X.drop(feature_name, axis=1)\n",
        "        del self.feature_types[feature_name]\n"
      ],
      "metadata": {
        "id": "juSxbo1fQeUj"
      },
      "execution_count": 56,
      "outputs": []
    },
    {
      "cell_type": "markdown",
      "source": [
        "## Node classes"
      ],
      "metadata": {
        "id": "mEpJBXT0Ske9"
      }
    },
    {
      "cell_type": "code",
      "source": [
        "class Node:\n",
        "    def __init__(\n",
        "            self,\n",
        "            selected_feature: str,\n",
        "            feature_type: str,\n",
        "            feature_values: Union[List[Any], None] = None,\n",
        "            threshold: float = None,\n",
        "            children: Union[Dict[Any, 'Node'], None] = None,\n",
        "    ):\n",
        "        self.selected_feature = selected_feature\n",
        "        self.feature_type = feature_type\n",
        "\n",
        "        if feature_values is None:\n",
        "            self.feature_values = []\n",
        "        else:\n",
        "            self.feature_values = feature_values\n",
        "\n",
        "        self.threshold = threshold\n",
        "\n",
        "        if children is None:\n",
        "            self.children = {}\n",
        "        else:\n",
        "            self.children = children\n",
        "\n",
        "    def print_node(self, layer: int = 0, last_feature_value: Any = 'root'):\n",
        "        indentation = '\\t' * layer\n",
        "        # nominal/categorical\n",
        "        if self.threshold is None:\n",
        "            print(f\"{indentation}#({last_feature_value} -> {self.selected_feature}: {self.feature_values})#\")\n",
        "        # numeric\n",
        "        else:\n",
        "            print(f\"{indentation}#({last_feature_value} -> {self.selected_feature}: {self.threshold})#\")\n",
        "\n",
        "        for key, child in self.children.items():\n",
        "            child.print_node(layer + 1, key)\n",
        "\n",
        "    def run_for_point(self, data_point: pd.Series) -> 'Node':\n",
        "        if self.feature_type == NOMINAL:\n",
        "            return self.children[data_point[self.selected_feature]]\n",
        "\n",
        "        elif self.feature_type == NUMERIC:\n",
        "            feature_value = data_point[self.selected_feature]\n",
        "\n",
        "            if feature_value >= self.threshold:\n",
        "                return self.children['above']\n",
        "\n",
        "            else:\n",
        "                return self.children['below']"
      ],
      "metadata": {
        "id": "pVmB06jjSmdF"
      },
      "execution_count": 57,
      "outputs": []
    },
    {
      "cell_type": "code",
      "source": [
        "class LeafNode:\n",
        "    def __init__(\n",
        "            self,\n",
        "            label: Any = None,\n",
        "    ):\n",
        "        self.label = label\n",
        "\n",
        "    def print_node(self, layer: int, last_feature_value: Any = 'root'):\n",
        "        indentation = '\\t' * layer\n",
        "        print(f\"{indentation}#({last_feature_value} -> label: {self.label})#\")"
      ],
      "metadata": {
        "id": "NLIMjIWvSuWK"
      },
      "execution_count": 58,
      "outputs": []
    },
    {
      "cell_type": "markdown",
      "source": [
        "## Functions"
      ],
      "metadata": {
        "id": "FD_XVZy4RJNb"
      }
    },
    {
      "cell_type": "code",
      "source": [
        "# basic functions\n",
        "def calculate_log2(num: float):\n",
        "    if num == 0:\n",
        "        return inf\n",
        "    return log2(num)\n",
        "\n",
        "\n",
        "def calculate_entropy(\n",
        "        data: Data,\n",
        ") -> float:\n",
        "    result = 0.0\n",
        "    for label in data.y.unique():\n",
        "        p = data.y.value_counts()[label] / len(data.y)\n",
        "        result -= p * calculate_log2(p)\n",
        "\n",
        "    return result\n",
        "\n",
        "\n",
        "def calculate_conditional_entropy(\n",
        "        data: Data,\n",
        "        xj: str,\n",
        "        threshold: Union[int, float, None] = None,\n",
        ") -> float:\n",
        "    result = 0.0\n",
        "    for _, dv in data.get_dv_portions(xj, threshold).items():\n",
        "        result += len(dv) / len(data) * calculate_entropy(dv)\n",
        "\n",
        "    return result\n",
        "\n",
        "\n",
        "def calculate_information_gain(\n",
        "        data: Data,\n",
        "        xj: str,\n",
        "        threshold: Union[int, float, None] = None,\n",
        ") -> float:\n",
        "    return calculate_entropy(data) \\\n",
        "           - calculate_conditional_entropy(data, xj, threshold)\n",
        "\n",
        "\n",
        "def calculate_split_info(\n",
        "        data: Data,\n",
        "        xj: str,\n",
        "        threshold: Union[int, float, None] = None,\n",
        ") -> float:\n",
        "    result = 0.0\n",
        "    for _, dv in data.get_dv_portions(xj, threshold).items():\n",
        "        ratio = len(dv) / len(data)\n",
        "        result -= ratio * calculate_log2(ratio)\n",
        "\n",
        "    return result\n",
        "\n",
        "\n",
        "def calculate_gain_ratio(\n",
        "        data: Data,\n",
        "        xj: str,\n",
        "        threshold: Union[int, float, None] = None,\n",
        ") -> float:\n",
        "    return calculate_information_gain(data, xj, threshold) \\\n",
        "           / calculate_split_info(data, xj, threshold)\n",
        "\n",
        "\n",
        "def calculate_gain(\n",
        "        data: Data,\n",
        "        xj: str,\n",
        "        threshold: Union[int, float, None] = None,\n",
        "        method: str = IG,\n",
        ") -> float:\n",
        "    if method == IG:\n",
        "        return calculate_information_gain(data, xj, threshold)\n",
        "\n",
        "    elif method == GR:\n",
        "        return calculate_gain_ratio(data, xj, threshold)"
      ],
      "metadata": {
        "id": "DJRqO4fWQJAe"
      },
      "execution_count": 59,
      "outputs": []
    },
    {
      "cell_type": "code",
      "source": [
        "# choosing functions\n",
        "def find_best_threshold_gain(\n",
        "        data: Data,\n",
        "        xj: str,\n",
        "        method: str = IG,\n",
        ") -> Tuple[float, float]:\n",
        "    unique_values = data.X[xj].unique()\n",
        "    if len(unique_values) == 1:\n",
        "        thresholds = unique_values\n",
        "    else:\n",
        "        thresholds = [\n",
        "            (unique_values[i] + unique_values[i + 1]) / 2\n",
        "            for i in range(len(unique_values) - 1)\n",
        "        ]\n",
        "\n",
        "    best_gain = -1\n",
        "    best_threshold = None\n",
        "\n",
        "    for threshold in thresholds:\n",
        "        gain = calculate_gain(data, xj, threshold, method)\n",
        "        if gain > best_gain:\n",
        "            best_gain = gain\n",
        "            best_threshold = threshold\n",
        "\n",
        "    return best_threshold, best_gain\n",
        "\n",
        "\n",
        "def find_best_gain(\n",
        "        data: Data,\n",
        "        xj: str,\n",
        "        method: str = IG,\n",
        ") -> Tuple[float, Union[int, float, None]]:\n",
        "    if data.feature_types[xj] == NOMINAL:\n",
        "        return calculate_gain(data, xj, method=method), None\n",
        "\n",
        "    elif data.feature_types[xj] ==  NUMERIC:\n",
        "        threshold, gain = find_best_threshold_gain(data, xj, method)\n",
        "\n",
        "        return gain, threshold\n",
        "\n",
        "\n",
        "def find_best_feature(\n",
        "        data: Data,\n",
        "        method: str =  IG,\n",
        ") -> Tuple[Union[str, None], Union[int, float, None]]:\n",
        "    best_gain = -1\n",
        "    best_feature = None\n",
        "    best_threshold = None\n",
        "\n",
        "    for xj in data.get_feature_names():\n",
        "        # The features that has only one value can never be the best feature\n",
        "        if len(data.X[xj].unique()) == 1:\n",
        "            continue\n",
        "        gain, threshold = find_best_gain(data, xj, method)\n",
        "\n",
        "        if gain > best_gain:\n",
        "            best_gain = gain\n",
        "            best_feature = xj\n",
        "            best_threshold = threshold\n",
        "\n",
        "    # when going deeper doesn't help\n",
        "    # -1 happens when each feature has only one value\n",
        "    if best_gain <= 0:\n",
        "        return None, None\n",
        "\n",
        "    return best_feature, best_threshold\n"
      ],
      "metadata": {
        "id": "Szp8XlTTQNl6"
      },
      "execution_count": 60,
      "outputs": []
    },
    {
      "cell_type": "code",
      "source": [
        "# Tree construction\n",
        "def construct_tree(\n",
        "        data: Data,\n",
        "        method: str = IG,\n",
        ") -> Union[Node, LeafNode]:\n",
        "    # all data sorted correctly\n",
        "    if len(data.y.unique()) == 1:\n",
        "        return LeafNode(data.y.iloc[0])\n",
        "\n",
        "    # no feature left\n",
        "    elif data.X.shape[1] == 0:\n",
        "        return LeafNode(data.y.mode()[0])\n",
        "\n",
        "    best_feature, threshold = find_best_feature(data, method)\n",
        "\n",
        "    # none of the features is useful\n",
        "    if best_feature is None:\n",
        "        return LeafNode(data.y.mode()[0])\n",
        "\n",
        "    feature_values = data.feature_types[best_feature] \\\n",
        "        if threshold is None \\\n",
        "        else None\n",
        "\n",
        "    node = Node(\n",
        "        selected_feature=best_feature,\n",
        "        feature_type=data.feature_types[best_feature],\n",
        "        feature_values=feature_values,\n",
        "        threshold=threshold,\n",
        "    )\n",
        "    split_data = data.get_dv_portions(best_feature, threshold)\n",
        "\n",
        "    for key, value in split_data.items():\n",
        "        # nominal/categorical\n",
        "        if threshold is None:\n",
        "            value.remove_feature(best_feature)\n",
        "        node.children[key] = construct_tree(value, method)\n",
        "\n",
        "    return node"
      ],
      "metadata": {
        "id": "yVP71-qXSFKx"
      },
      "execution_count": 61,
      "outputs": []
    },
    {
      "cell_type": "markdown",
      "source": [
        "## ID3 Decision Tree Class"
      ],
      "metadata": {
        "id": "7HxuCZ_zS1H7"
      }
    },
    {
      "cell_type": "code",
      "source": [
        "class DecisionTreeID3:\n",
        "    def __init__(self):\n",
        "        self.tree = None\n",
        "\n",
        "    def train(\n",
        "            self,\n",
        "            data: Data,\n",
        "            method: str = IG,\n",
        "    ):\n",
        "        self.tree = construct_tree(data, method)\n",
        "\n",
        "    def test(\n",
        "            self,\n",
        "            test_data: Data,\n",
        "            evaluation_metrics: Union[List[str], None] = None,\n",
        "    ):\n",
        "        if evaluation_metrics is None:\n",
        "            evaluation_metrics = [ACCURACY]\n",
        "\n",
        "        true_predictions = 0\n",
        "        for i, row in test_data.X.iterrows():\n",
        "            prediction = self.predict(row)\n",
        "            if prediction == test_data.y.iloc[i]:\n",
        "                true_predictions += 1\n",
        "\n",
        "        results = {\n",
        "            ACCURACY: true_predictions / len(test_data),\n",
        "        }\n",
        "        return {\n",
        "            key: value\n",
        "            for key, value in results.items()\n",
        "            if key in evaluation_metrics\n",
        "        }\n",
        "\n",
        "    def predict(self, data_point: pd.Series):\n",
        "        current_node = self.tree\n",
        "\n",
        "        while not isinstance(current_node, LeafNode):\n",
        "            current_node = current_node.run_for_point(data_point)\n",
        "\n",
        "        return current_node.label\n",
        "\n",
        "    def print_tree(self):\n",
        "        self.tree.print_node(0)"
      ],
      "metadata": {
        "id": "qGTdJ2y7SZKc"
      },
      "execution_count": 62,
      "outputs": []
    },
    {
      "cell_type": "markdown",
      "source": [
        "# Train and Test"
      ],
      "metadata": {
        "id": "2pUjIHAJTiUm"
      }
    },
    {
      "cell_type": "code",
      "source": [
        "def train_and_print_test_results(\n",
        "        train_data: Data,\n",
        "        test_data: Data,\n",
        "        sample_number: int,\n",
        "        method: str = IG,\n",
        ") -> None:\n",
        "    print(f\"Sample data {sample_number}, using {method}:\")\n",
        "\n",
        "    decision_tree = DecisionTreeID3()\n",
        "    decision_tree.train(train_data, method)\n",
        "\n",
        "    decision_tree.print_tree()\n",
        "    print(f\"\\nAccuracy: {decision_tree.test(test_data)[ACCURACY]}\\n\")"
      ],
      "metadata": {
        "id": "l7i02YjdTj1p"
      },
      "execution_count": 63,
      "outputs": []
    },
    {
      "cell_type": "code",
      "source": [
        "# Sample test data 1\n",
        "def run_test_data_1(method: str = IG):\n",
        "    df = pd.DataFrame({\n",
        "        'A': ['F', 'T', 'T', 'T'],\n",
        "        'B': ['F', 'F', 'T', 'T'],\n",
        "        'C': ['F', 'T', 'T', 'F'],\n",
        "        'Y': ['F', 'T', 'F', 'T'],\n",
        "    })\n",
        "\n",
        "    X = df[['A', 'B', 'C']]\n",
        "    y = df['Y']\n",
        "\n",
        "    data = Data(\n",
        "        X,\n",
        "        y,\n",
        "        {\n",
        "            'A': NOMINAL,\n",
        "            'B': NOMINAL,\n",
        "            'C': NOMINAL,\n",
        "        }\n",
        "    )\n",
        "\n",
        "    train_and_print_test_results(data, data, 1, method)"
      ],
      "metadata": {
        "id": "x2fgx_agTo69"
      },
      "execution_count": 64,
      "outputs": []
    },
    {
      "cell_type": "code",
      "source": [
        "# Sample test data 2 (tennis game from slides)\n",
        "def run_test_data_2(method: str = IG):\n",
        "    dataset = [\n",
        "        ['Sunny', 'Hot', 'High', 'Light', 'No'],\n",
        "        ['Sunny', 'Hot', 'High', 'Strong', 'No'],\n",
        "        ['Overcast', 'Hot', 'High', 'Light', 'Yes'],\n",
        "        ['Rain', 'Mild', 'High', 'Light', 'Yes'],\n",
        "        ['Rain', 'Cool', 'Normal', 'Light', 'Yes'],\n",
        "        ['Rain', 'Cool', 'Normal', 'Strong', 'No'],\n",
        "        ['Overcast', 'Cool', 'Normal', 'Strong', 'Yes'],\n",
        "        ['Sunny', 'Mild', 'High', 'Light', 'No'],\n",
        "        ['Sunny', 'Cool', 'Normal', 'Light', 'Yes'],\n",
        "        ['Rain', 'Mild', 'Normal', 'Light', 'Yes'],\n",
        "        ['Sunny', 'Mild', 'Normal', 'Strong', 'Yes'],\n",
        "        ['Overcast', 'Mild', 'High', 'Strong', 'Yes'],\n",
        "        ['Overcast', 'Hot', 'Normal', 'Light', 'Yes'],\n",
        "        ['Rain', 'Mild', 'High', 'Strong', 'No']\n",
        "    ]\n",
        "\n",
        "    df = pd.DataFrame(dataset, columns=['Outlook', 'Temperature', 'Humidity', 'Wind', 'Play Tennis?'])\n",
        "\n",
        "    X = df[['Outlook', 'Temperature', 'Humidity', 'Wind']]\n",
        "    y = df['Play Tennis?']\n",
        "\n",
        "    data = Data(\n",
        "        X,\n",
        "        y,\n",
        "        {\n",
        "            'Outlook': NOMINAL,\n",
        "            'Temperature': NOMINAL,\n",
        "            'Humidity': NOMINAL,\n",
        "            'Wind': NOMINAL,\n",
        "        }\n",
        "    )\n",
        "\n",
        "    train_and_print_test_results(data, data, 2, method)"
      ],
      "metadata": {
        "id": "llmM3T8YTuPN"
      },
      "execution_count": 65,
      "outputs": []
    },
    {
      "cell_type": "code",
      "source": [
        "# Sample test data 3 (Iris)\n",
        "def run_test_data_3(method: str = IG):\n",
        "    column_names = ['sepal_length', 'sepal_width', 'petal_length', 'petal_width', 'class']\n",
        "    df = pd.read_csv('iris.data', header=None, names=column_names)\n",
        "\n",
        "    X = df[column_names[:-1]]\n",
        "    y = df[column_names[-1]]\n",
        "\n",
        "    X_train, X_test, y_train, y_test = train_test_split(\n",
        "        X,\n",
        "        y,\n",
        "        test_size=0.2,\n",
        "        random_state=42\n",
        "    )\n",
        "    X_train.reset_index(drop=True, inplace=True)\n",
        "    X_test.reset_index(drop=True, inplace=True)\n",
        "    y_train.reset_index(drop=True, inplace=True)\n",
        "    y_test.reset_index(drop=True, inplace=True)\n",
        "\n",
        "    train_data = Data(\n",
        "        X_train,\n",
        "        y_train,\n",
        "        {key: NUMERIC for key in column_names[:-1]}\n",
        "    )\n",
        "\n",
        "    test_data = Data(\n",
        "        X_test,\n",
        "        y_test,\n",
        "        {key: NUMERIC for key in column_names[:-1]}\n",
        "    )\n",
        "\n",
        "    train_and_print_test_results(train_data, test_data, 3, method)"
      ],
      "metadata": {
        "id": "pd7liMg9T-3o"
      },
      "execution_count": 66,
      "outputs": []
    },
    {
      "cell_type": "code",
      "source": [
        "def run_test_and_print(\n",
        "        data_number: int,\n",
        "        method: str = IG,\n",
        ") -> None:\n",
        "    now = time()\n",
        "    if data_number == 1:\n",
        "        run_test_data_1(method)\n",
        "    elif data_number == 2:\n",
        "        run_test_data_2(method)\n",
        "    elif data_number == 3:\n",
        "        run_test_data_3(method)\n",
        "    print(f\"It took {time() - now} seconds.\")\n",
        "    print()"
      ],
      "metadata": {
        "id": "sTtSj_X2YcRi"
      },
      "execution_count": 67,
      "outputs": []
    },
    {
      "cell_type": "markdown",
      "source": [
        "## Test using information gain"
      ],
      "metadata": {
        "id": "m1xXMyTbU4VX"
      }
    },
    {
      "cell_type": "code",
      "source": [
        "run_test_and_print(1, IG)"
      ],
      "metadata": {
        "colab": {
          "base_uri": "https://localhost:8080/"
        },
        "id": "9d4BayyOUIyt",
        "outputId": "b9871410-7c5d-4bf2-d57d-3dd0ae49a777"
      },
      "execution_count": 68,
      "outputs": [
        {
          "output_type": "stream",
          "name": "stdout",
          "text": [
            "Sample data 1, using INFORMATION_GAIN:\n",
            "#(root -> A: NOM)#\n",
            "\t#(F -> label: F)#\n",
            "\t#(T -> B: NOM)#\n",
            "\t\t#(F -> label: T)#\n",
            "\t\t#(T -> C: NOM)#\n",
            "\t\t\t#(T -> label: F)#\n",
            "\t\t\t#(F -> label: T)#\n",
            "\n",
            "Accuracy: 1.0\n",
            "\n",
            "It took 0.039583683013916016 seconds.\n",
            "\n"
          ]
        }
      ]
    },
    {
      "cell_type": "code",
      "source": [
        "run_test_and_print(2, IG)"
      ],
      "metadata": {
        "colab": {
          "base_uri": "https://localhost:8080/"
        },
        "id": "x9f5ZNEhUKMG",
        "outputId": "7247a857-2043-456a-a8dd-c4d0f0114bdd"
      },
      "execution_count": 69,
      "outputs": [
        {
          "output_type": "stream",
          "name": "stdout",
          "text": [
            "Sample data 2, using INFORMATION_GAIN:\n",
            "#(root -> Outlook: NOM)#\n",
            "\t#(Sunny -> Humidity: NOM)#\n",
            "\t\t#(High -> label: No)#\n",
            "\t\t#(Normal -> label: Yes)#\n",
            "\t#(Overcast -> label: Yes)#\n",
            "\t#(Rain -> Wind: NOM)#\n",
            "\t\t#(Light -> label: Yes)#\n",
            "\t\t#(Strong -> label: No)#\n",
            "\n",
            "Accuracy: 1.0\n",
            "\n",
            "It took 0.0554814338684082 seconds.\n",
            "\n"
          ]
        }
      ]
    },
    {
      "cell_type": "code",
      "source": [
        "run_test_and_print(3, IG)"
      ],
      "metadata": {
        "colab": {
          "base_uri": "https://localhost:8080/"
        },
        "id": "193lmlBbY2Cg",
        "outputId": "cc242c13-6b58-485e-a52f-7997608fef68"
      },
      "execution_count": 70,
      "outputs": [
        {
          "output_type": "stream",
          "name": "stdout",
          "text": [
            "Sample data 3, using INFORMATION_GAIN:\n",
            "#(root -> petal_length: 2.95)#\n",
            "\t#(above -> petal_length: 4.75)#\n",
            "\t\t#(above -> petal_length: 5.3)#\n",
            "\t\t\t#(above -> label: Iris-virginica)#\n",
            "\t\t\t#(below -> petal_width: 1.9)#\n",
            "\t\t\t\t#(above -> label: Iris-virginica)#\n",
            "\t\t\t\t#(below -> sepal_length: 6.35)#\n",
            "\t\t\t\t\t#(above -> label: Iris-versicolor)#\n",
            "\t\t\t\t\t#(below -> sepal_width: 3.1)#\n",
            "\t\t\t\t\t\t#(above -> label: Iris-versicolor)#\n",
            "\t\t\t\t\t\t#(below -> sepal_width: 2.75)#\n",
            "\t\t\t\t\t\t\t#(above -> label: Iris-virginica)#\n",
            "\t\t\t\t\t\t\t#(below -> sepal_width: 2.45)#\n",
            "\t\t\t\t\t\t\t\t#(above -> petal_width: 1.7000000000000002)#\n",
            "\t\t\t\t\t\t\t\t\t#(above -> label: Iris-virginica)#\n",
            "\t\t\t\t\t\t\t\t\t#(below -> label: Iris-versicolor)#\n",
            "\t\t\t\t\t\t\t\t#(below -> label: Iris-virginica)#\n",
            "\t\t#(below -> petal_width: 1.55)#\n",
            "\t\t\t#(above -> sepal_length: 5.45)#\n",
            "\t\t\t\t#(above -> label: Iris-versicolor)#\n",
            "\t\t\t\t#(below -> label: Iris-virginica)#\n",
            "\t\t\t#(below -> label: Iris-versicolor)#\n",
            "\t#(below -> label: Iris-setosa)#\n",
            "\n",
            "Accuracy: 1.0\n",
            "\n",
            "It took 1.5504844188690186 seconds.\n",
            "\n"
          ]
        }
      ]
    },
    {
      "cell_type": "markdown",
      "source": [
        "## Test using gain ratio"
      ],
      "metadata": {
        "id": "8Ef4qrljZ1CF"
      }
    },
    {
      "cell_type": "code",
      "source": [
        "run_test_and_print(1, GR)"
      ],
      "metadata": {
        "colab": {
          "base_uri": "https://localhost:8080/"
        },
        "outputId": "27c4e13c-4867-49c4-9d8c-cc962ffc9ac8",
        "id": "ws7PLnfCZ1CM"
      },
      "execution_count": 71,
      "outputs": [
        {
          "output_type": "stream",
          "name": "stdout",
          "text": [
            "Sample data 1, using GAIN_RATIO:\n",
            "#(root -> A: NOM)#\n",
            "\t#(F -> label: F)#\n",
            "\t#(T -> B: NOM)#\n",
            "\t\t#(F -> label: T)#\n",
            "\t\t#(T -> C: NOM)#\n",
            "\t\t\t#(T -> label: F)#\n",
            "\t\t\t#(F -> label: T)#\n",
            "\n",
            "Accuracy: 1.0\n",
            "\n",
            "It took 0.04790019989013672 seconds.\n",
            "\n"
          ]
        }
      ]
    },
    {
      "cell_type": "code",
      "source": [
        "run_test_and_print(2, GR)"
      ],
      "metadata": {
        "colab": {
          "base_uri": "https://localhost:8080/"
        },
        "outputId": "d3716632-85c9-4efa-91c6-15f417104657",
        "id": "EAxsP4gQZ1CM"
      },
      "execution_count": 72,
      "outputs": [
        {
          "output_type": "stream",
          "name": "stdout",
          "text": [
            "Sample data 2, using GAIN_RATIO:\n",
            "#(root -> Outlook: NOM)#\n",
            "\t#(Sunny -> Humidity: NOM)#\n",
            "\t\t#(High -> label: No)#\n",
            "\t\t#(Normal -> label: Yes)#\n",
            "\t#(Overcast -> label: Yes)#\n",
            "\t#(Rain -> Wind: NOM)#\n",
            "\t\t#(Light -> label: Yes)#\n",
            "\t\t#(Strong -> label: No)#\n",
            "\n",
            "Accuracy: 1.0\n",
            "\n",
            "It took 0.07091379165649414 seconds.\n",
            "\n"
          ]
        }
      ]
    },
    {
      "cell_type": "code",
      "source": [
        "run_test_and_print(3, GR)"
      ],
      "metadata": {
        "colab": {
          "base_uri": "https://localhost:8080/"
        },
        "outputId": "a8fa8279-5b34-4e50-c4c0-e7050daaf11d",
        "id": "vkTuFteUZ1CM"
      },
      "execution_count": 73,
      "outputs": [
        {
          "output_type": "stream",
          "name": "stdout",
          "text": [
            "Sample data 3, using GAIN_RATIO:\n",
            "#(root -> petal_length: 2.95)#\n",
            "\t#(above -> petal_width: 1.7000000000000002)#\n",
            "\t\t#(above -> petal_length: 4.85)#\n",
            "\t\t\t#(above -> label: Iris-virginica)#\n",
            "\t\t\t#(below -> sepal_length: 5.95)#\n",
            "\t\t\t\t#(above -> label: Iris-virginica)#\n",
            "\t\t\t\t#(below -> label: Iris-versicolor)#\n",
            "\t\t#(below -> petal_length: 5.25)#\n",
            "\t\t\t#(above -> label: Iris-virginica)#\n",
            "\t\t\t#(below -> petal_length: 4.75)#\n",
            "\t\t\t\t#(above -> sepal_width: 2.45)#\n",
            "\t\t\t\t\t#(above -> petal_length: 5.05)#\n",
            "\t\t\t\t\t\t#(above -> sepal_length: 6.15)#\n",
            "\t\t\t\t\t\t\t#(above -> label: Iris-virginica)#\n",
            "\t\t\t\t\t\t\t#(below -> label: Iris-versicolor)#\n",
            "\t\t\t\t\t\t#(below -> label: Iris-versicolor)#\n",
            "\t\t\t\t\t#(below -> label: Iris-virginica)#\n",
            "\t\t\t\t#(below -> petal_width: 1.55)#\n",
            "\t\t\t\t\t#(above -> sepal_length: 5.45)#\n",
            "\t\t\t\t\t\t#(above -> label: Iris-versicolor)#\n",
            "\t\t\t\t\t\t#(below -> label: Iris-virginica)#\n",
            "\t\t\t\t\t#(below -> label: Iris-versicolor)#\n",
            "\t#(below -> label: Iris-setosa)#\n",
            "\n",
            "Accuracy: 1.0\n",
            "\n",
            "It took 2.246432065963745 seconds.\n",
            "\n"
          ]
        }
      ]
    },
    {
      "cell_type": "code",
      "source": [],
      "metadata": {
        "id": "RgNaPWmmZ1CM"
      },
      "execution_count": 73,
      "outputs": []
    }
  ]
}